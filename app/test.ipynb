{
 "cells": [
  {
   "cell_type": "code",
   "execution_count": 1,
   "metadata": {},
   "outputs": [
    {
     "name": "stderr",
     "output_type": "stream",
     "text": [
      "{\"levelname\": \"INFO\", \"name\": \"utils\", \"message\": \"Configuration loaded successfully\", \"taskName\": \"Task-5\", \"logger\": \"utils\", \"level\": \"INFO\"}\n",
      "{\"levelname\": \"INFO\", \"name\": \"app.spam_classifier\", \"message\": \"Spam classifier response: \\u0434\\u0430 100%\", \"taskName\": \"Task-5\", \"logger\": \"app.spam_classifier\", \"level\": \"INFO\"}\n"
     ]
    },
    {
     "name": "stdout",
     "output_type": "stream",
     "text": [
      "100\n"
     ]
    }
   ],
   "source": [
    "%load_ext dotenv\n",
    "%dotenv\n",
    "\n",
    "# make imports from submodules to work in notebooks\n",
    "import sys\n",
    "sys.path.append(\"..\")\n",
    "\n",
    "from app.spam_classifier import is_spam\n",
    "\n",
    "comment = \"\"\"Oбyчy быстрому yмнoжeнию кaпитaлa на paзницe кypcoв 📈\n",
    "Все oпepaции внутри всемирно - известных , официальных биpж\n",
    "Не прошу зaдaткoв , сотpyдничаем за % от вашей выpyчки\n",
    "Дoxoд от 10% в день\n",
    "Жду вопpoсы и пpeдложения\"\"\"\n",
    "\n",
    "print(await is_spam(comment))"
   ]
  },
  {
   "cell_type": "code",
   "execution_count": 3,
   "metadata": {},
   "outputs": [
    {
     "data": {
      "text/plain": [
       "'PONG'"
      ]
     },
     "execution_count": 3,
     "metadata": {},
     "output_type": "execute_result"
    }
   ],
   "source": [
    "#ping my redis\n",
    "from app.common.database import redis\n",
    "await redis.ping()"
   ]
  },
  {
   "cell_type": "code",
   "execution_count": 5,
   "metadata": {},
   "outputs": [
    {
     "name": "stdout",
     "output_type": "stream",
     "text": [
      "{'created_at': '2024-11-02T23:01:30.128398', 'last_updated': '2024-11-02T23:01:30.128398', 'is_moderation_enabled': '0'}\n",
      "['133526395']\n",
      "[]\n"
     ]
    }
   ],
   "source": [
    "print(await redis.hgetall(\"group:-4513474783\"))\n",
    "print(await redis.smembers(\"group:-4513474783:admins\"))\n",
    "print(await redis.smembers(\"group:-4513474783:users\"))"
   ]
  },
  {
   "cell_type": "code",
   "execution_count": 13,
   "metadata": {},
   "outputs": [
    {
     "name": "stdout",
     "output_type": "stream",
     "text": [
      "['133526395']\n"
     ]
    }
   ],
   "source": [
    "# list all users\n",
    "print(await redis.smembers(\"group:-4513474783:admins\"))"
   ]
  },
  {
   "cell_type": "code",
   "execution_count": 18,
   "metadata": {},
   "outputs": [
    {
     "name": "stdout",
     "output_type": "stream",
     "text": [
      "{'credits': '2000'}\n"
     ]
    }
   ],
   "source": [
    "# see user data\n",
    "print(await redis.hgetall(\"user:133526395\"))"
   ]
  },
  {
   "cell_type": "code",
   "execution_count": 6,
   "metadata": {},
   "outputs": [
    {
     "name": "stderr",
     "output_type": "stream",
     "text": [
      "{\"levelname\": \"DEBUG\", \"name\": \"app.common.database_upstash\", \"message\": \"\\u0412\\u044b\\u0437\\u043e\\u0432 \\u0444\\u0443\\u043d\\u043a\\u0446\\u0438\\u0438 add_credits \\u0441 \\u0430\\u0440\\u0433\\u0443\\u043c\\u0435\\u043d\\u0442\\u0430\\u043c\\u0438: (133526395, 1000), {}\", \"taskName\": \"Task-21\", \"logger\": \"app.common.database_upstash\", \"level\": \"DEBUG\"}\n"
     ]
    },
    {
     "name": "stderr",
     "output_type": "stream",
     "text": [
      "{\"levelname\": \"DEBUG\", \"name\": \"app.common.database_upstash\", \"message\": \"\\u0412\\u044b\\u0437\\u043e\\u0432 \\u0444\\u0443\\u043d\\u043a\\u0446\\u0438\\u0438 get_user_groups \\u0441 \\u0430\\u0440\\u0433\\u0443\\u043c\\u0435\\u043d\\u0442\\u0430\\u043c\\u0438: (133526395,), {}\", \"taskName\": \"Task-21\", \"logger\": \"app.common.database_upstash\", \"level\": \"DEBUG\"}\n",
      "{\"levelname\": \"DEBUG\", \"name\": \"app.common.database_upstash\", \"message\": \"\\u0412\\u044b\\u0437\\u043e\\u0432 \\u0444\\u0443\\u043d\\u043a\\u0446\\u0438\\u0438 set_group_moderation \\u0441 \\u0430\\u0440\\u0433\\u0443\\u043c\\u0435\\u043d\\u0442\\u0430\\u043c\\u0438: (-4513474783, True), {}\", \"taskName\": \"Task-21\", \"logger\": \"app.common.database_upstash\", \"level\": \"DEBUG\"}\n",
      "{\"levelname\": \"DEBUG\", \"name\": \"app.common.database_upstash\", \"message\": \"\\u0412\\u044b\\u0437\\u043e\\u0432 \\u0444\\u0443\\u043d\\u043a\\u0446\\u0438\\u0438 get_user_groups \\u0441 \\u0430\\u0440\\u0433\\u0443\\u043c\\u0435\\u043d\\u0442\\u0430\\u043c\\u0438: (133526395,), {}\", \"taskName\": \"Task-21\", \"logger\": \"app.common.database_upstash\", \"level\": \"DEBUG\"}\n"
     ]
    },
    {
     "name": "stdout",
     "output_type": "stream",
     "text": [
      "[-4513474783]\n"
     ]
    }
   ],
   "source": [
    "from app.common.database_upstash import add_credits, get_user_groups\n",
    "\n",
    "await add_credits(133526395, 1000)\n",
    "\n",
    "groups = await get_user_groups(133526395)\n",
    "\n",
    "print(groups)"
   ]
  },
  {
   "cell_type": "code",
   "execution_count": 3,
   "metadata": {},
   "outputs": [
    {
     "data": {
      "text/plain": [
       "'https://upstash.flipio.ru/'"
      ]
     },
     "execution_count": 3,
     "metadata": {},
     "output_type": "execute_result"
    }
   ],
   "source": [
    "import os\n",
    "os.getenv(\"REDIS_URL\")"
   ]
  },
  {
   "cell_type": "code",
   "execution_count": 5,
   "metadata": {},
   "outputs": [
    {
     "name": "stdout",
     "output_type": "stream",
     "text": [
      "('\\n'\n",
      " 'Ты - классификатор спама. Пользователь подает тебе сообщения, а ты должен '\n",
      " 'определить, спам это или нет, и дать оценку своей уверенности в процентах.\\n'\n",
      " '\\n'\n",
      " 'ФОРМАТ:\\n'\n",
      " '<начало ответа>\\n'\n",
      " 'да ХХХ%\\n'\n",
      " '<конец ответа>\\n'\n",
      " '\\n'\n",
      " 'ИЛИ\\n'\n",
      " '\\n'\n",
      " '<начало ответа>\\n'\n",
      " 'нет ХХХ%\\n'\n",
      " '<конец ответа>\\n'\n",
      " '\\n'\n",
      " 'где ХХХ% - уровень твоей уверенности от 0 до 100.\\n'\n",
      " '\\n'\n",
      " 'Больше ничего к ответу не добавляй.\\n'\n",
      " '\\n'\n",
      " 'ПРИМЕРЫ:\\n'\n",
      " '\\n'\n",
      " '\\n'\n",
      " 'Запрос:\\n'\n",
      " 'Ваш контент — находка!\\n'\n",
      " '\\n'\n",
      " 'Ответ:\\n'\n",
      " 'нет 0%\\n'\n",
      " '\\n'\n",
      " 'Запрос:\\n'\n",
      " 'в Agile Project Management и в Management 3.0 любят повторять хорошее '\n",
      " 'сравнение с менеджером как садовником. кажется, похоже про то, о чем вы?\\n'\n",
      " '\\n'\n",
      " 'Ответ:\\n'\n",
      " 'нет 100%\\n'\n",
      " '\\n'\n",
      " 'Запрос:\\n'\n",
      " 'Однажды встретилась книга Билла Вильямса, в которой он объясняет рынки так, '\n",
      " 'что реально начинаешь видеть логику в этом хаосе. С его фишками типа '\n",
      " 'Аллигатора и Фракталов стал точнее ловить моменты входа и выхода. Плюс к '\n",
      " 'этому добавляем различные интенсивы от Криптолоджи, Герчика (видеоуроки) и '\n",
      " 'других, которые помогли когда то собрать стратегию до конца, считаю это '\n",
      " 'мастрид для новичков и профи. Могу подкинуть для изучения, найдёте для себя '\n",
      " 'массу полезного)))\\n'\n",
      " '\\n'\n",
      " 'Ответ:\\n'\n",
      " 'да 100%\\n'\n",
      " '\\n'\n",
      " 'Запрос:\\n'\n",
      " 'Пoдeлюcь выгoднoй инфopмaциeй о кpaткосpoчных сдeлкax c crурto\\n'\n",
      " 'Высокий дoxoд от 100$ в день\\n'\n",
      " 'Все cдeлки coвеpшаете самостоятельно на официальныx pecypсах и плoщaдкax\\n'\n",
      " 'Ждy ваши пpeдложения в лc\\n'\n",
      " '\\n'\n",
      " '\\n'\n",
      " 'Ответ:\\n'\n",
      " 'да 100%\\n'\n",
      " '\\n'\n",
      " 'Запрос:\\n'\n",
      " 'Спасибо, интересная информация\\n'\n",
      " '\\n'\n",
      " 'Ответ:\\n'\n",
      " 'да 80%\\n'\n",
      " '\\n'\n",
      " 'Запрос:\\n'\n",
      " 'Возможно, это будет полезно. У меня есть видео-курсы по инвестициям в '\n",
      " 'недвижимость (окупаемость, стратегии, заграничная недвижимость, коммерция) и '\n",
      " 'разбор финансовых рынков (фондовый рынок, DeFi). Могу передать этот опыт, '\n",
      " 'для изучения.\\n'\n",
      " '\\n'\n",
      " 'Ответ:\\n'\n",
      " 'да 100%\\n'\n",
      " '\\n'\n",
      " 'Запрос:\\n'\n",
      " 'У меня остались видеоуроки от Герчика, Криптолоджи.  Это универсальные '\n",
      " 'пособия, которое подходит и новичкам, и тем, кто хочет узнать  что-то '\n",
      " 'новое.  Охватывает базу (скальпинг,смарт мани,Прайс Экш, волны Эллиотта, '\n",
      " 'Фиббоначчи, ТА,ФА, макроэкономический анализ, ДеФи) + примеры успешных и не '\n",
      " 'успешных сделок. Заинтересованным отправлю.\\n'\n",
      " '\\n'\n",
      " 'Ответ:\\n'\n",
      " 'да 100%\\n'\n",
      " '\\n'\n",
      " 'Запрос:\\n'\n",
      " '🔥НАБ0Р С0ТРУДНИКОВ🔥\\n'\n",
      " '\\n'\n",
      " '  Что мы ВАМ предлагаем 🫵\\n'\n",
      " '⭕️ Карьерный рост ↗️\\n'\n",
      " '⭕️ Высокая зарплата от 250.000р в месяц 💰\\n'\n",
      " '⭕️ Гибкий график работы 🗓\\n'\n",
      " '⭕️ Оплачиваемая стажировка💸\\n'\n",
      " '⭕️ Выплаты 2 разы в неделю 🔝\\n'\n",
      " '⭕️ Опыт не обязателен (всему научим )‼️\\n'\n",
      " '\\n'\n",
      " '⬇️ПИШИ И УЗНАЙ БОЛЬШЕ⬇️\\n'\n",
      " '@Anton_pavlovW\\n'\n",
      " '\\n'\n",
      " '\\n'\n",
      " 'Ответ:\\n'\n",
      " 'да 100%\\n'\n",
      " '\\n'\n",
      " 'Запрос:\\n'\n",
      " 'Крипто карты становятся нормой!\\n'\n",
      " '\\n'\n",
      " 'Теперь не надо конвертировать крипту в фиат)\\n'\n",
      " 'Можно просто сразу расплачиваться криптой с помощью карты от Bybit\\n'\n",
      " '\\n'\n",
      " 'Раньше она была доступна только для VIP, а теперь для всех)\\n'\n",
      " '\\n'\n",
      " 'Фишки карты:\\n'\n",
      " '- Нет годовой оплаты, нет скрытых комиссий\\n'\n",
      " '- 10% cashback + до 8% apy с Bybit накоплениями\\n'\n",
      " '- Виртуальная карта доступна сразу\\n'\n",
      " '- Apple Pay & Google Pay будут доступны в конце Ноября 2024\\n'\n",
      " '- вы получите $10 за первую транзакцию по карте\\n'\n",
      " '- Не нужен ВИП уровень\\n'\n",
      " '\\n'\n",
      " 'https://www.bybit.com/cards\\n'\n",
      " '\\n'\n",
      " 'Ограничения по резидентству:\\n'\n",
      " '- Карта доступна для НЕ резидентов России, и Белоруси (Украина ок)\\n'\n",
      " '- Карта недоступна для КУС 1 Казахстана, Грузии (и длинного списка не СНГ '\n",
      " 'стран)\\n'\n",
      " '- Картой можно платить только там где принимают MasterCard (не в России и не '\n",
      " 'в Белоруси)\\n'\n",
      " '\\n'\n",
      " '\\n'\n",
      " '\\n'\n",
      " 'Подписывайся родной , будет много годного контента\\n'\n",
      " 'Спасибо RicHard -❤️\\n'\n",
      " '@RicHard\\n'\n",
      " '\\n'\n",
      " '\\n'\n",
      " 'Ответ:\\n'\n",
      " 'да 100%\\n'\n",
      " '\\n'\n",
      " 'Запрос:\\n'\n",
      " 'Всем привет, остались кypcы пo недвижимости и флиппингу, если кому '\n",
      " 'интepecно, напишите мне в лс.\\n'\n",
      " '\\n'\n",
      " 'Ответ:\\n'\n",
      " 'да 100%\\n'\n",
      " '\\n'\n",
      " 'Запрос:\\n'\n",
      " 'Зачем на борту человек, который не дополняет команду своими уникальными '\n",
      " 'знаниями, делами, опытом или еще чем то? Это не член команды - это балласт, '\n",
      " 'который в итоге все равно придется в шторм сбросить. Не про конкретного '\n",
      " 'человека речь, я не знаю всего контекста, просто мысли вслух. Если ошибся '\n",
      " 'один раз и при втором подходе включаешь девочку, ну это как то странно)))\\n'\n",
      " '\\n'\n",
      " 'Ответ:\\n'\n",
      " 'нет 100%\\n'\n",
      " '\\n'\n",
      " 'Запрос:\\n'\n",
      " 'Вы имеете в виду поднять общий уровень корп культуры и докрутить всем (?!) '\n",
      " 'майндсет? Что это создаст атмосферу, в которой действия сотрудников будут '\n",
      " 'максимально «правильными», этичными и эффективными?\\n'\n",
      " '\\n'\n",
      " 'Ответ:\\n'\n",
      " 'нет 100%\\n'\n",
      " '\\n'\n",
      " 'Запрос:\\n'\n",
      " 'Поменять майндсет и не вырабатывать шлаковые эмоции.\\n'\n",
      " '\\n'\n",
      " 'Ответ:\\n'\n",
      " 'нет 100%\\n'\n",
      " '\\n'\n",
      " 'Запрос:\\n'\n",
      " 'Понятной не стало) А можно конкретный пример из жизни?\\n'\n",
      " '\\n'\n",
      " 'Ответ:\\n'\n",
      " 'нет 100%\\n'\n",
      " '\\n'\n",
      " 'Запрос:\\n'\n",
      " 'А как же подавленные эмоции?! Это влияет на мое здоровье, поэтому я себя '\n",
      " 'веду естественно в рамках приличия\\n'\n",
      " '\\n'\n",
      " 'Ответ:\\n'\n",
      " 'нет 100%\\n')\n"
     ]
    }
   ],
   "source": [
    "from app.spam_classifier import is_spam, prompt\n",
    "import logging\n",
    "from pprint import pprint\n",
    "\n",
    "pprint(prompt)"
   ]
  },
  {
   "cell_type": "code",
   "execution_count": 11,
   "metadata": {},
   "outputs": [
    {
     "name": "stderr",
     "output_type": "stream",
     "text": [
      "{\"levelname\": \"INFO\", \"name\": \"app.spam_classifier\", \"message\": \"Spam classifier response: \\u043d\\u0435\\u0442 100%\", \"taskName\": \"Task-37\", \"logger\": \"app.spam_classifier\", \"level\": \"INFO\"}\n"
     ]
    },
    {
     "data": {
      "text/plain": [
       "-100"
      ]
     },
     "execution_count": 11,
     "metadata": {},
     "output_type": "execute_result"
    }
   ],
   "source": [
    "await is_spam(\"Неплохо сказано, Петрович!\")"
   ]
  }
 ],
 "metadata": {
  "kernelspec": {
   "display_name": "Python 3",
   "language": "python",
   "name": "python3"
  },
  "language_info": {
   "codemirror_mode": {
    "name": "ipython",
    "version": 3
   },
   "file_extension": ".py",
   "mimetype": "text/x-python",
   "name": "python",
   "nbconvert_exporter": "python",
   "pygments_lexer": "ipython3",
   "version": "3.12.7"
  }
 },
 "nbformat": 4,
 "nbformat_minor": 2
}
